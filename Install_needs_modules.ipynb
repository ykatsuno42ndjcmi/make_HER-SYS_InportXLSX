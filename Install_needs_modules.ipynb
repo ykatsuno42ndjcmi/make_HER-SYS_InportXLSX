{
 "cells": [
  {
   "cell_type": "code",
   "execution_count": null,
   "id": "4f498133-d9f6-4fe7-8319-e2279c1f113b",
   "metadata": {},
   "outputs": [],
   "source": [
    "#jupyterlab日本語設定モジュール\n",
    "#インストール後、jupyterlabを再起動の後、[Settings]-[Language]よりJapaneseを選択で日本語表示\n",
    "%pip install jupyterlab-language-pack-ja-JP\n",
    "#日本郵便番号ラッパー\n",
    "%pip install jusho\n",
    "#XLSX作成のため\n",
    "%pip install openpyxl\n",
    "#文字コード対応のため\n",
    "%pip install chardet"
   ]
  }
 ],
 "metadata": {
  "kernelspec": {
   "display_name": "Python 3 (ipykernel)",
   "language": "python",
   "name": "python3"
  },
  "language_info": {
   "codemirror_mode": {
    "name": "ipython",
    "version": 3
   },
   "file_extension": ".py",
   "mimetype": "text/x-python",
   "name": "python",
   "nbconvert_exporter": "python",
   "pygments_lexer": "ipython3",
   "version": "3.8.13"
  }
 },
 "nbformat": 4,
 "nbformat_minor": 5
}
